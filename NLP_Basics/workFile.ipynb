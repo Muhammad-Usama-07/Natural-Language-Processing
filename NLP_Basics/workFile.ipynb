{
 "cells": [
  {
   "cell_type": "markdown",
   "id": "2dcdbb8c",
   "metadata": {},
   "source": [
    "# Regular expressions"
   ]
  },
  {
   "cell_type": "markdown",
   "id": "209c4106",
   "metadata": {},
   "source": [
    "## Seperate Sentence on the Basis of sentence endings (. ? !)"
   ]
  },
  {
   "cell_type": "code",
   "execution_count": 2,
   "id": "3b584df1",
   "metadata": {},
   "outputs": [],
   "source": [
    "import re"
   ]
  },
  {
   "cell_type": "code",
   "execution_count": 3,
   "id": "b23e1e94",
   "metadata": {},
   "outputs": [
    {
     "name": "stdout",
     "output_type": "stream",
     "text": [
      "['In linguistics and grammar, a sentence is a linguistic expression, such as the English example \"The quick brown fox jumps over the lazy dog', '\" In traditional grammar, it is typically defined as a string of words that expresses a complete thought, or as a unit consisting of a subject and predicate', '']\n"
     ]
    }
   ],
   "source": [
    "sentence = 'In linguistics and grammar, a sentence is a linguistic expression, such as the English example \"The quick brown fox jumps over the lazy dog.\" In traditional grammar, it is typically defined as a string of words that expresses a complete thought, or as a unit consisting of a subject and predicate.'\n",
    "pattern_of_sentence_endings = r\"[.?!]\"\n",
    "print(re.split(pattern_of_sentence_endings, sentence))"
   ]
  },
  {
   "cell_type": "markdown",
   "id": "bf1c612e",
   "metadata": {},
   "source": [
    "## Seperate Words from String"
   ]
  },
  {
   "cell_type": "code",
   "execution_count": 4,
   "id": "50965963",
   "metadata": {},
   "outputs": [
    {
     "name": "stdout",
     "output_type": "stream",
     "text": [
      "['In', 'linguistics', 'and', 'grammar,', 'a', 'sentence', 'is', 'a', 'linguistic', 'expression']\n"
     ]
    }
   ],
   "source": [
    "sentence = 'In linguistics and grammar, a sentence is a linguistic expression'\n",
    "pattern_of_word_seperation = r\"\\s+\"\n",
    "print(re.split(pattern_of_word_seperation, sentence))"
   ]
  },
  {
   "cell_type": "markdown",
   "id": "b49d8398",
   "metadata": {},
   "source": [
    "## Find all capitalized words from String"
   ]
  },
  {
   "cell_type": "code",
   "execution_count": 7,
   "id": "3b076ab7",
   "metadata": {},
   "outputs": [
    {
     "name": "stdout",
     "output_type": "stream",
     "text": [
      "['In', 'Linguistic', 'Expression']\n"
     ]
    }
   ],
   "source": [
    "sentence = 'In linguistics and grammar, a sentence is a Linguistic Expression'\n",
    "capitalized_words_pattern = r\"[A-Z]\\w+\"\n",
    "print(re.findall(capitalized_words_pattern, sentence))"
   ]
  },
  {
   "cell_type": "markdown",
   "id": "a120937b",
   "metadata": {},
   "source": [
    "## Find all Digits from String"
   ]
  },
  {
   "cell_type": "code",
   "execution_count": 9,
   "id": "0c03b2f9",
   "metadata": {},
   "outputs": [
    {
     "name": "stdout",
     "output_type": "stream",
     "text": [
      "['2', '123']\n"
     ]
    }
   ],
   "source": [
    "sentence = 'In linguistics and grammar, a 2 sentence is a linguistic expression, 123'\n",
    "find_digit_pattern = r\"\\d+\"\n",
    "print(re.findall(find_digit_pattern, sentence))"
   ]
  },
  {
   "cell_type": "code",
   "execution_count": null,
   "id": "91d37d7c",
   "metadata": {},
   "outputs": [],
   "source": []
  }
 ],
 "metadata": {
  "kernelspec": {
   "display_name": "Python 3 (ipykernel)",
   "language": "python",
   "name": "python3"
  },
  "language_info": {
   "codemirror_mode": {
    "name": "ipython",
    "version": 3
   },
   "file_extension": ".py",
   "mimetype": "text/x-python",
   "name": "python",
   "nbconvert_exporter": "python",
   "pygments_lexer": "ipython3",
   "version": "3.11.1"
  }
 },
 "nbformat": 4,
 "nbformat_minor": 5
}
