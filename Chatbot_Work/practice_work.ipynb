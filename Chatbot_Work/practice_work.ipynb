{
  "cells": [
    {
      "cell_type": "markdown",
      "metadata": {
        "id": "view-in-github",
        "colab_type": "text"
      },
      "source": [
        "<a href=\"https://colab.research.google.com/github/Muhammad-Usama-07/Natural-Language-Processing/blob/main/Chatbot_Work/practice_work.ipynb\" target=\"_parent\"><img src=\"https://colab.research.google.com/assets/colab-badge.svg\" alt=\"Open In Colab\"/></a>"
      ]
    },
    {
      "cell_type": "markdown",
      "source": [
        "# Bot Respond Funtion"
      ],
      "metadata": {
        "id": "stRXIlVsNcgr"
      },
      "id": "stRXIlVsNcgr"
    },
    {
      "cell_type": "code",
      "execution_count": 5,
      "id": "6c0cbbce",
      "metadata": {
        "colab": {
          "base_uri": "https://localhost:8080/"
        },
        "id": "6c0cbbce",
        "outputId": "a444dc76-04d0-4939-db27-7625f2ae47f8"
      },
      "outputs": [
        {
          "output_type": "stream",
          "name": "stdout",
          "text": [
            "I can hear you : hello!\n"
          ]
        }
      ],
      "source": [
        "def bot_respond(message):\n",
        "    bot_message = \"I can hear you : \" + message\n",
        "    return bot_message\n",
        "\n",
        "# Test function\n",
        "print(bot_respond(\"hello!\"))"
      ]
    },
    {
      "cell_type": "markdown",
      "source": [
        "# Send Message and Recieve Response From Bot"
      ],
      "metadata": {
        "id": "Yz3Fsnr3oHNT"
      },
      "id": "Yz3Fsnr3oHNT"
    },
    {
      "cell_type": "code",
      "source": [
        "bot_template = \"BOT Answer: {0}\"\n",
        "user_template = \"USER Message: {0}\"\n",
        "\n",
        "def send_user_message(message):\n",
        "    print(user_template.format(message))\n",
        "    response = bot_respond(message)\n",
        "    print(bot_template.format(response))\n",
        "\n",
        "send_user_message(\"hello\")"
      ],
      "metadata": {
        "colab": {
          "base_uri": "https://localhost:8080/"
        },
        "id": "vkOn1xnCMliY",
        "outputId": "441d5c55-29fb-4ad3-89c9-f39fbeb849f4"
      },
      "id": "vkOn1xnCMliY",
      "execution_count": 6,
      "outputs": [
        {
          "output_type": "stream",
          "name": "stdout",
          "text": [
            "USER Message: hello\n",
            "BOT Answer: I can hear you : hello\n"
          ]
        }
      ]
    },
    {
      "cell_type": "markdown",
      "source": [
        "# Create Basic Question Answering Bot"
      ],
      "metadata": {
        "id": "xSAtnMm6p2xi"
      },
      "id": "xSAtnMm6p2xi"
    },
    {
      "cell_type": "markdown",
      "source": [
        "## Creating match rules fucntion"
      ],
      "metadata": {
        "id": "ObEMsrGbqAxH"
      },
      "id": "ObEMsrGbqAxH"
    },
    {
      "cell_type": "code",
      "source": [
        "rules = {'I want (.*)': ['What would it mean if you got {0}',\n",
        "  'Why do you want {0}',\n",
        "  \"What's stopping you from getting {0}\"],\n",
        " 'do you remember (.*)': ['Did you think I would forget {0}',\n",
        "  \"Why haven't you been able to forget {0}\",\n",
        "  'What about {0}',\n",
        "  'Yes .. and?'],\n",
        " 'do you think (.*)': ['if {0}? Absolutely.', 'No chance'],\n",
        " 'if (.*)': [\"Do you really think it's likely that {0}\",\n",
        "  'Do you wish that {0}',\n",
        "  'What do you think about {0}',\n",
        "  'Really--if {0}']}"
      ],
      "metadata": {
        "id": "esgrw_FDoWCv"
      },
      "id": "esgrw_FDoWCv",
      "execution_count": null,
      "outputs": []
    },
    {
      "cell_type": "code",
      "source": [
        "import re\n",
        "import random\n",
        "def match_rule(rules, message):\n",
        "    response, phrase = \"default\", None\n",
        "    \n",
        "    for pattern, responses in rules.items():\n",
        "        match = re.search(pattern, message)\n",
        "        if match is not None:\n",
        "            response = random.choice(responses)\n",
        "            if '{0}' in response:\n",
        "                phrase = match.group(1)\n",
        "    return response.format(phrase)\n",
        "\n",
        "print(match_rule(rules, \"do you remember your last birthday\"))"
      ],
      "metadata": {
        "colab": {
          "base_uri": "https://localhost:8080/"
        },
        "id": "yTeenHELqYHY",
        "outputId": "29464071-5543-41a7-aeda-633f044a7ab8"
      },
      "id": "yTeenHELqYHY",
      "execution_count": null,
      "outputs": [
        {
          "output_type": "stream",
          "name": "stdout",
          "text": [
            "Yes .. and?\n"
          ]
        }
      ]
    },
    {
      "cell_type": "markdown",
      "source": [
        "## Creating pronouns replacing fucntion"
      ],
      "metadata": {
        "id": "uhQTfZkAsgPl"
      },
      "id": "uhQTfZkAsgPl"
    },
    {
      "cell_type": "code",
      "source": [
        "def replace_pronouns(message):\n",
        "\n",
        "    message = message.lower()\n",
        "    if 'me' in message:\n",
        "        return re.sub('me', 'you', message)\n",
        "    if 'my' in message:\n",
        "        return re.sub('my', 'your', message)\n",
        "    if 'your' in message:\n",
        "        return re.sub('your', 'my', message)\n",
        "    if 'you' in message:\n",
        "        return re.sub('you', 'me', message)\n",
        "\n",
        "    return message\n",
        "\n",
        "print(replace_pronouns(\"my last birthday\"))"
      ],
      "metadata": {
        "id": "reB2HVR0rOFo",
        "colab": {
          "base_uri": "https://localhost:8080/"
        },
        "outputId": "82db73ab-a23f-479f-c9aa-5309e21ef9fc"
      },
      "execution_count": null,
      "outputs": [
        {
          "output_type": "stream",
          "name": "stdout",
          "text": [
            "your last birthday\n"
          ]
        }
      ],
      "id": "reB2HVR0rOFo"
    },
    {
      "cell_type": "markdown",
      "source": [
        "## Creating response function"
      ],
      "metadata": {
        "id": "v_PszHR0tyNI"
      },
      "id": "v_PszHR0tyNI"
    },
    {
      "cell_type": "code",
      "source": [
        "def respond(message):\n",
        "    response, phrase = match_rule(rules, message)\n",
        "    if '{0}' in response:\n",
        "        phrase = replace_pronouns(phrase)\n",
        "        response = response.format(phrase)\n",
        "    return response"
      ],
      "metadata": {
        "id": "6ika58H9srAY"
      },
      "id": "6ika58H9srAY",
      "execution_count": null,
      "outputs": []
    },
    {
      "cell_type": "markdown",
      "source": [
        "## Testing bot"
      ],
      "metadata": {
        "id": "QgA4tOn-uiAL"
      },
      "id": "QgA4tOn-uiAL"
    },
    {
      "cell_type": "code",
      "source": [
        "send_user_message(\"do you remember your last birthday\")\n",
        "send_user_message(\"do you think humans should be worried about AI\")\n",
        "send_user_message(\"I want a robot friend\")\n",
        "send_user_message(\"what if you could be anything you wanted\")"
      ],
      "metadata": {
        "colab": {
          "base_uri": "https://localhost:8080/"
        },
        "id": "uZAY5Psut-bA",
        "outputId": "785b0c0d-94a5-441a-c2f4-ba162a080ce4"
      },
      "id": "uZAY5Psut-bA",
      "execution_count": null,
      "outputs": [
        {
          "output_type": "stream",
          "name": "stdout",
          "text": [
            "USER Message: do you remember your last birthday\n",
            "BOT Answer: I can hear you : do you remember your last birthday\n",
            "USER Message: do you think humans should be worried about AI\n",
            "BOT Answer: I can hear you : do you think humans should be worried about AI\n",
            "USER Message: I want a robot friend\n",
            "BOT Answer: I can hear you : I want a robot friend\n",
            "USER Message: what if you could be anything you wanted\n",
            "BOT Answer: I can hear you : what if you could be anything you wanted\n"
          ]
        }
      ]
    },
    {
      "cell_type": "markdown",
      "source": [
        "# Intent classification Using regex"
      ],
      "metadata": {
        "id": "v6BfhmUpWkmA"
      },
      "id": "v6BfhmUpWkmA"
    },
    {
      "cell_type": "markdown",
      "source": [
        "## Create patterns"
      ],
      "metadata": {
        "id": "vWZdGtcaTtNU"
      },
      "id": "vWZdGtcaTtNU"
    },
    {
      "cell_type": "code",
      "source": [
        "import re\n",
        "keywords = {'greet': ['hello', 'hi', 'hey'], 'goodbye': ['bye', 'farewell'], 'thankyou': ['thank', 'thx']}\n",
        "patterns = {}\n",
        "\n",
        "for intent, keys in keywords.items():\n",
        "    patterns[intent] = re.compile('|'.join(keys))\n",
        "\n",
        "print(patterns)"
      ],
      "metadata": {
        "id": "iV9K-Bziuss7",
        "colab": {
          "base_uri": "https://localhost:8080/"
        },
        "outputId": "6d49847c-6fd4-409c-9ad0-733b2ad23d9a"
      },
      "id": "iV9K-Bziuss7",
      "execution_count": 3,
      "outputs": [
        {
          "output_type": "stream",
          "name": "stdout",
          "text": [
            "{'greet': re.compile('hello|hi|hey'), 'goodbye': re.compile('bye|farewell'), 'thankyou': re.compile('thank|thx')}\n"
          ]
        }
      ]
    },
    {
      "cell_type": "markdown",
      "source": [
        "## Send message and recieve response from bot"
      ],
      "metadata": {
        "id": "9QE1kH7qWMcZ"
      },
      "id": "9QE1kH7qWMcZ"
    },
    {
      "cell_type": "code",
      "source": [
        "responses = {'default': 'default message',\n",
        " 'goodbye': 'goodbye for now',\n",
        " 'greet': 'Hello you! :)',\n",
        " 'thankyou': 'you are very welcome'}\n",
        "\n",
        "bot_template = \"BOT Answer: {0}\"\n",
        "user_template = \"USER Message: {0}\"\n",
        "\n",
        "def send_user_message(message):\n",
        "    print(user_template.format(message))\n",
        "    response = respond(message)\n",
        "    print(bot_template.format(response))\n",
        "\n",
        "send_user_message(\"hello\")\n",
        "\n",
        "def match_intent(message):\n",
        "    matched_intent = None\n",
        "    for intent, pattern in patterns.items():\n",
        "        if re.search(pattern, message):\n",
        "            matched_intent = intent\n",
        "    return matched_intent\n",
        "\n",
        "def respond(message):\n",
        "    intent = match_intent(message)\n",
        "    key = \"default\"\n",
        "    if intent in responses:\n",
        "        key = intent\n",
        "    return responses[key]\n",
        "\n",
        "send_user_message(\"hello!\")\n",
        "send_user_message(\"bye byeee\")\n",
        "send_user_message(\"thanks very much!\")"
      ],
      "metadata": {
        "colab": {
          "base_uri": "https://localhost:8080/"
        },
        "id": "X1pW7_4_UIDH",
        "outputId": "e2890c7e-0fa7-45ab-d54f-d48348fc603f"
      },
      "id": "X1pW7_4_UIDH",
      "execution_count": 10,
      "outputs": [
        {
          "output_type": "stream",
          "name": "stdout",
          "text": [
            "USER Message: hello!\n",
            "BOT Answer: Hello you! :)\n",
            "USER Message: bye byeee\n",
            "BOT Answer: goodbye for now\n",
            "USER Message: thanks very much!\n",
            "BOT Answer: you are very welcome\n"
          ]
        }
      ]
    },
    {
      "cell_type": "markdown",
      "source": [
        "# Intent classification Using sklearn"
      ],
      "metadata": {
        "id": "JUBXH-0rjuh_"
      },
      "id": "JUBXH-0rjuh_"
    },
    {
      "cell_type": "markdown",
      "source": [
        "## Read data"
      ],
      "metadata": {
        "id": "l3_tKY5PajZj"
      },
      "id": "l3_tKY5PajZj"
    },
    {
      "cell_type": "code",
      "source": [
        "import pandas as pd\n",
        "data = pd.read_csv('atis_intents_train.csv')\n",
        "data.head()"
      ],
      "metadata": {
        "colab": {
          "base_uri": "https://localhost:8080/",
          "height": 206
        },
        "id": "_xHTkXyiV5Js",
        "outputId": "0736e417-907e-401b-883c-2392aa68df9c"
      },
      "id": "_xHTkXyiV5Js",
      "execution_count": 14,
      "outputs": [
        {
          "output_type": "execute_result",
          "data": {
            "text/plain": [
              "             labels                                               text\n",
              "0       atis_flight   i want to fly from boston at 838 am and arriv...\n",
              "1       atis_flight   what flights are available from pittsburgh to...\n",
              "2  atis_flight_time   what is the arrival time in san francisco for...\n",
              "3      atis_airfare            cheapest airfare from tacoma to orlando\n",
              "4      atis_airfare   round trip fares from pittsburgh to philadelp..."
            ],
            "text/html": [
              "\n",
              "  <div id=\"df-0cd2d120-cff0-4e4a-8385-7c936c2ef618\">\n",
              "    <div class=\"colab-df-container\">\n",
              "      <div>\n",
              "<style scoped>\n",
              "    .dataframe tbody tr th:only-of-type {\n",
              "        vertical-align: middle;\n",
              "    }\n",
              "\n",
              "    .dataframe tbody tr th {\n",
              "        vertical-align: top;\n",
              "    }\n",
              "\n",
              "    .dataframe thead th {\n",
              "        text-align: right;\n",
              "    }\n",
              "</style>\n",
              "<table border=\"1\" class=\"dataframe\">\n",
              "  <thead>\n",
              "    <tr style=\"text-align: right;\">\n",
              "      <th></th>\n",
              "      <th>labels</th>\n",
              "      <th>text</th>\n",
              "    </tr>\n",
              "  </thead>\n",
              "  <tbody>\n",
              "    <tr>\n",
              "      <th>0</th>\n",
              "      <td>atis_flight</td>\n",
              "      <td>i want to fly from boston at 838 am and arriv...</td>\n",
              "    </tr>\n",
              "    <tr>\n",
              "      <th>1</th>\n",
              "      <td>atis_flight</td>\n",
              "      <td>what flights are available from pittsburgh to...</td>\n",
              "    </tr>\n",
              "    <tr>\n",
              "      <th>2</th>\n",
              "      <td>atis_flight_time</td>\n",
              "      <td>what is the arrival time in san francisco for...</td>\n",
              "    </tr>\n",
              "    <tr>\n",
              "      <th>3</th>\n",
              "      <td>atis_airfare</td>\n",
              "      <td>cheapest airfare from tacoma to orlando</td>\n",
              "    </tr>\n",
              "    <tr>\n",
              "      <th>4</th>\n",
              "      <td>atis_airfare</td>\n",
              "      <td>round trip fares from pittsburgh to philadelp...</td>\n",
              "    </tr>\n",
              "  </tbody>\n",
              "</table>\n",
              "</div>\n",
              "      <button class=\"colab-df-convert\" onclick=\"convertToInteractive('df-0cd2d120-cff0-4e4a-8385-7c936c2ef618')\"\n",
              "              title=\"Convert this dataframe to an interactive table.\"\n",
              "              style=\"display:none;\">\n",
              "        \n",
              "  <svg xmlns=\"http://www.w3.org/2000/svg\" height=\"24px\"viewBox=\"0 0 24 24\"\n",
              "       width=\"24px\">\n",
              "    <path d=\"M0 0h24v24H0V0z\" fill=\"none\"/>\n",
              "    <path d=\"M18.56 5.44l.94 2.06.94-2.06 2.06-.94-2.06-.94-.94-2.06-.94 2.06-2.06.94zm-11 1L8.5 8.5l.94-2.06 2.06-.94-2.06-.94L8.5 2.5l-.94 2.06-2.06.94zm10 10l.94 2.06.94-2.06 2.06-.94-2.06-.94-.94-2.06-.94 2.06-2.06.94z\"/><path d=\"M17.41 7.96l-1.37-1.37c-.4-.4-.92-.59-1.43-.59-.52 0-1.04.2-1.43.59L10.3 9.45l-7.72 7.72c-.78.78-.78 2.05 0 2.83L4 21.41c.39.39.9.59 1.41.59.51 0 1.02-.2 1.41-.59l7.78-7.78 2.81-2.81c.8-.78.8-2.07 0-2.86zM5.41 20L4 18.59l7.72-7.72 1.47 1.35L5.41 20z\"/>\n",
              "  </svg>\n",
              "      </button>\n",
              "      \n",
              "  <style>\n",
              "    .colab-df-container {\n",
              "      display:flex;\n",
              "      flex-wrap:wrap;\n",
              "      gap: 12px;\n",
              "    }\n",
              "\n",
              "    .colab-df-convert {\n",
              "      background-color: #E8F0FE;\n",
              "      border: none;\n",
              "      border-radius: 50%;\n",
              "      cursor: pointer;\n",
              "      display: none;\n",
              "      fill: #1967D2;\n",
              "      height: 32px;\n",
              "      padding: 0 0 0 0;\n",
              "      width: 32px;\n",
              "    }\n",
              "\n",
              "    .colab-df-convert:hover {\n",
              "      background-color: #E2EBFA;\n",
              "      box-shadow: 0px 1px 2px rgba(60, 64, 67, 0.3), 0px 1px 3px 1px rgba(60, 64, 67, 0.15);\n",
              "      fill: #174EA6;\n",
              "    }\n",
              "\n",
              "    [theme=dark] .colab-df-convert {\n",
              "      background-color: #3B4455;\n",
              "      fill: #D2E3FC;\n",
              "    }\n",
              "\n",
              "    [theme=dark] .colab-df-convert:hover {\n",
              "      background-color: #434B5C;\n",
              "      box-shadow: 0px 1px 3px 1px rgba(0, 0, 0, 0.15);\n",
              "      filter: drop-shadow(0px 1px 2px rgba(0, 0, 0, 0.3));\n",
              "      fill: #FFFFFF;\n",
              "    }\n",
              "  </style>\n",
              "\n",
              "      <script>\n",
              "        const buttonEl =\n",
              "          document.querySelector('#df-0cd2d120-cff0-4e4a-8385-7c936c2ef618 button.colab-df-convert');\n",
              "        buttonEl.style.display =\n",
              "          google.colab.kernel.accessAllowed ? 'block' : 'none';\n",
              "\n",
              "        async function convertToInteractive(key) {\n",
              "          const element = document.querySelector('#df-0cd2d120-cff0-4e4a-8385-7c936c2ef618');\n",
              "          const dataTable =\n",
              "            await google.colab.kernel.invokeFunction('convertToInteractive',\n",
              "                                                     [key], {});\n",
              "          if (!dataTable) return;\n",
              "\n",
              "          const docLinkHtml = 'Like what you see? Visit the ' +\n",
              "            '<a target=\"_blank\" href=https://colab.research.google.com/notebooks/data_table.ipynb>data table notebook</a>'\n",
              "            + ' to learn more about interactive tables.';\n",
              "          element.innerHTML = '';\n",
              "          dataTable['output_type'] = 'display_data';\n",
              "          await google.colab.output.renderOutput(dataTable, element);\n",
              "          const docLink = document.createElement('div');\n",
              "          docLink.innerHTML = docLinkHtml;\n",
              "          element.appendChild(docLink);\n",
              "        }\n",
              "      </script>\n",
              "    </div>\n",
              "  </div>\n",
              "  "
            ]
          },
          "metadata": {},
          "execution_count": 14
        }
      ]
    },
    {
      "cell_type": "markdown",
      "source": [
        "## Seperating text and lebel data"
      ],
      "metadata": {
        "id": "bzSqWvyHdX4_"
      },
      "id": "bzSqWvyHdX4_"
    },
    {
      "cell_type": "code",
      "source": [
        "text_data = list(data['text'])\n",
        "text_data[0:3]"
      ],
      "metadata": {
        "colab": {
          "base_uri": "https://localhost:8080/"
        },
        "id": "jWQD9mLzcfgb",
        "outputId": "e051b8eb-9a76-4ab3-b4e7-17c6913c4674"
      },
      "id": "jWQD9mLzcfgb",
      "execution_count": 18,
      "outputs": [
        {
          "output_type": "execute_result",
          "data": {
            "text/plain": [
              "[' i want to fly from boston at 838 am and arrive in denver at 1110 in the morning',\n",
              " ' what flights are available from pittsburgh to baltimore on thursday morning',\n",
              " ' what is the arrival time in san francisco for the 755 am flight leaving washington']"
            ]
          },
          "metadata": {},
          "execution_count": 18
        }
      ]
    },
    {
      "cell_type": "code",
      "source": [
        "data['labels'].value_counts()"
      ],
      "metadata": {
        "colab": {
          "base_uri": "https://localhost:8080/"
        },
        "id": "9MxRwmGjdn-o",
        "outputId": "4a18cb76-f7a6-4e6b-cff8-1f9c368c4666"
      },
      "id": "9MxRwmGjdn-o",
      "execution_count": 19,
      "outputs": [
        {
          "output_type": "execute_result",
          "data": {
            "text/plain": [
              "atis_flight            3666\n",
              "atis_airfare            423\n",
              "atis_ground_service     255\n",
              "atis_airline            157\n",
              "atis_abbreviation       147\n",
              "atis_aircraft            81\n",
              "atis_flight_time         54\n",
              "atis_quantity            51\n",
              "Name: labels, dtype: int64"
            ]
          },
          "metadata": {},
          "execution_count": 19
        }
      ]
    },
    {
      "cell_type": "code",
      "source": [
        "data['labels'] = data['labels']. replace(['atis_flight', 'atis_airfare', 'atis_ground_service', 'atis_airline', 'atis_abbreviation', 'atis_aircraft', 'atis_flight_time', 'atis_quantity'], [0,1,2,3,4,5,6,7])\n",
        "data['labels'].value_counts()"
      ],
      "metadata": {
        "colab": {
          "base_uri": "https://localhost:8080/"
        },
        "id": "r3bBKf56djQQ",
        "outputId": "a9009d6a-e02a-433b-eaf8-58633fd07808"
      },
      "id": "r3bBKf56djQQ",
      "execution_count": 20,
      "outputs": [
        {
          "output_type": "execute_result",
          "data": {
            "text/plain": [
              "0    3666\n",
              "1     423\n",
              "2     255\n",
              "3     157\n",
              "4     147\n",
              "5      81\n",
              "6      54\n",
              "7      51\n",
              "Name: labels, dtype: int64"
            ]
          },
          "metadata": {},
          "execution_count": 20
        }
      ]
    },
    {
      "cell_type": "markdown",
      "source": [
        "## Convert text data to vectors"
      ],
      "metadata": {
        "id": "fEDLk5aOhnjB"
      },
      "id": "fEDLk5aOhnjB"
    },
    {
      "cell_type": "code",
      "source": [
        "import spacy\n",
        "import numpy as np\n",
        "nlp = spacy.load('en_core_web_md')\n",
        "\n",
        "n_sentences = len(text_data)\n",
        "\n",
        "embedding_dim = nlp.vocab.vectors_length\n",
        "\n",
        "text_vector = np.zeros((n_sentences, embedding_dim))\n",
        "\n",
        "for idx, sentence in enumerate(text_data):\n",
        "    doc = nlp(sentence)\n",
        "    text_vector[idx, :] = doc.vector"
      ],
      "metadata": {
        "id": "X7-ksUcPgkFH"
      },
      "id": "X7-ksUcPgkFH",
      "execution_count": 24,
      "outputs": []
    },
    {
      "cell_type": "code",
      "source": [
        "text_vector"
      ],
      "metadata": {
        "colab": {
          "base_uri": "https://localhost:8080/"
        },
        "id": "gviW1yBohLCc",
        "outputId": "b5489740-73b2-4737-aa85-6866c3965c74"
      },
      "id": "gviW1yBohLCc",
      "execution_count": 25,
      "outputs": [
        {
          "output_type": "execute_result",
          "data": {
            "text/plain": [
              "array([[-0.0826674 , -0.58716798, -2.1964817 , ..., -1.25990617,\n",
              "        -2.6429491 ,  1.24336207],\n",
              "       [-1.80790913,  1.00080669, -3.05921483, ..., -1.52719319,\n",
              "        -2.36632752,  1.1796701 ],\n",
              "       [-1.36993992,  0.49113077,  0.07254934, ..., -1.3198179 ,\n",
              "        -2.0484488 ,  2.16480947],\n",
              "       ...,\n",
              "       [-1.82230973, -1.06588328, -2.15213466, ..., -2.93899107,\n",
              "        -2.00138211, -1.13957   ],\n",
              "       [-2.00526071,  2.67443204, -2.5772748 , ..., -0.08352997,\n",
              "        -2.17978454,  0.47018856],\n",
              "       [-1.33432257,  3.42474079, -2.36559343, ...,  0.34180367,\n",
              "        -3.09680247,  2.61888719]])"
            ]
          },
          "metadata": {},
          "execution_count": 25
        }
      ]
    },
    {
      "cell_type": "code",
      "source": [
        "labels_data = data['labels']\n",
        "labels_data = np.array(labels_data)\n",
        "labels_data"
      ],
      "metadata": {
        "colab": {
          "base_uri": "https://localhost:8080/"
        },
        "id": "LhNKe1a1iWHj",
        "outputId": "376d9e7e-83b2-4a16-9bae-d02e8e2cb493"
      },
      "id": "LhNKe1a1iWHj",
      "execution_count": 31,
      "outputs": [
        {
          "output_type": "execute_result",
          "data": {
            "text/plain": [
              "array([0, 0, 6, ..., 3, 0, 0])"
            ]
          },
          "metadata": {},
          "execution_count": 31
        }
      ]
    },
    {
      "cell_type": "markdown",
      "source": [
        "## Split data"
      ],
      "metadata": {
        "id": "UHLA3pgIiBP8"
      },
      "id": "UHLA3pgIiBP8"
    },
    {
      "cell_type": "code",
      "source": [
        "from sklearn.model_selection import train_test_split\n",
        "X_train, X_test, y_train, y_test = train_test_split(text_vector, labels_data , random_state=104, test_size=0.25, shuffle=True)"
      ],
      "metadata": {
        "id": "A2nIvWqzhl93"
      },
      "id": "A2nIvWqzhl93",
      "execution_count": 32,
      "outputs": []
    },
    {
      "cell_type": "markdown",
      "source": [
        "## Perform Classification"
      ],
      "metadata": {
        "id": "9c6qUQ5rjUZa"
      },
      "id": "9c6qUQ5rjUZa"
    },
    {
      "cell_type": "code",
      "source": [
        "from sklearn.svm import SVC\n",
        "\n",
        "clf = SVC(C=1)\n",
        "\n",
        "clf.fit(X_train, y_train)\n",
        "\n",
        "y_pred = clf.predict(X_test)\n",
        "\n",
        "n_correct = 0\n",
        "for i in range(len(y_test)):\n",
        "    if y_pred[i] == y_test[i]:\n",
        "        n_correct += 1\n",
        "\n",
        "print(\"Predicted {0} correctly out of {1} test examples\".format(n_correct, len(y_test)))"
      ],
      "metadata": {
        "colab": {
          "base_uri": "https://localhost:8080/"
        },
        "id": "CKcMnRNUidFn",
        "outputId": "4d250db9-ba19-4151-901a-2fe1372edbab"
      },
      "id": "CKcMnRNUidFn",
      "execution_count": 33,
      "outputs": [
        {
          "output_type": "stream",
          "name": "stdout",
          "text": [
            "Predicted 1123 correctly out of 1209 test examples\n"
          ]
        }
      ]
    },
    {
      "cell_type": "code",
      "source": [],
      "metadata": {
        "id": "uql5QRsrivwm"
      },
      "id": "uql5QRsrivwm",
      "execution_count": null,
      "outputs": []
    }
  ],
  "metadata": {
    "kernelspec": {
      "display_name": "Python 3 (ipykernel)",
      "language": "python",
      "name": "python3"
    },
    "language_info": {
      "codemirror_mode": {
        "name": "ipython",
        "version": 3
      },
      "file_extension": ".py",
      "mimetype": "text/x-python",
      "name": "python",
      "nbconvert_exporter": "python",
      "pygments_lexer": "ipython3",
      "version": "3.8.0"
    },
    "colab": {
      "provenance": [],
      "toc_visible": true,
      "include_colab_link": true
    }
  },
  "nbformat": 4,
  "nbformat_minor": 5
}