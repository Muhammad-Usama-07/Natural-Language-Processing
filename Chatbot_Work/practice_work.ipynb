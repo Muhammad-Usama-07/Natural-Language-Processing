{
  "cells": [
    {
      "cell_type": "markdown",
      "metadata": {
        "id": "view-in-github",
        "colab_type": "text"
      },
      "source": [
        "<a href=\"https://colab.research.google.com/github/Muhammad-Usama-07/Natural-Language-Processing/blob/main/Chatbot_Work/practice_work.ipynb\" target=\"_parent\"><img src=\"https://colab.research.google.com/assets/colab-badge.svg\" alt=\"Open In Colab\"/></a>"
      ]
    },
    {
      "cell_type": "markdown",
      "source": [
        "# Bot Respond Funtion"
      ],
      "metadata": {
        "id": "stRXIlVsNcgr"
      },
      "id": "stRXIlVsNcgr"
    },
    {
      "cell_type": "code",
      "execution_count": 2,
      "id": "6c0cbbce",
      "metadata": {
        "colab": {
          "base_uri": "https://localhost:8080/"
        },
        "id": "6c0cbbce",
        "outputId": "f1d431ce-f8ab-44aa-ab3b-f81871764b86"
      },
      "outputs": [
        {
          "output_type": "stream",
          "name": "stdout",
          "text": [
            "I can hear you : hello!\n"
          ]
        }
      ],
      "source": [
        "def bot_respond(message):\n",
        "    bot_message = \"I can hear you : \" + message\n",
        "    return bot_message\n",
        "\n",
        "# Test function\n",
        "print(bot_respond(\"hello!\"))"
      ]
    },
    {
      "cell_type": "markdown",
      "source": [
        "# Send Message and Recieve Response From Bot"
      ],
      "metadata": {
        "id": "Yz3Fsnr3oHNT"
      },
      "id": "Yz3Fsnr3oHNT"
    },
    {
      "cell_type": "code",
      "source": [
        "bot_template = \"BOT Answer: {0}\"\n",
        "user_template = \"USER Message: {0}\"\n",
        "\n",
        "def send_user_message(message):\n",
        "    print(user_template.format(message))\n",
        "    response = bot_respond(message)\n",
        "    print(bot_template.format(response))\n",
        "\n",
        "send_user_message(\"hello\")"
      ],
      "metadata": {
        "colab": {
          "base_uri": "https://localhost:8080/"
        },
        "id": "vkOn1xnCMliY",
        "outputId": "d15dc34a-5322-467a-d78e-e5f801837a89"
      },
      "id": "vkOn1xnCMliY",
      "execution_count": 4,
      "outputs": [
        {
          "output_type": "stream",
          "name": "stdout",
          "text": [
            "USER Message: hello\n",
            "BOT Answer: I can hear you : hello\n"
          ]
        }
      ]
    },
    {
      "cell_type": "markdown",
      "source": [],
      "metadata": {
        "id": "xSAtnMm6p2xi"
      },
      "id": "xSAtnMm6p2xi"
    },
    {
      "cell_type": "markdown",
      "source": [
        "# Creating match rules fucntion"
      ],
      "metadata": {
        "id": "ObEMsrGbqAxH"
      },
      "id": "ObEMsrGbqAxH"
    },
    {
      "cell_type": "code",
      "source": [
        "rules = {'I want (.*)': ['What would it mean if you got {0}',\n",
        "  'Why do you want {0}',\n",
        "  \"What's stopping you from getting {0}\"],\n",
        " 'do you remember (.*)': ['Did you think I would forget {0}',\n",
        "  \"Why haven't you been able to forget {0}\",\n",
        "  'What about {0}',\n",
        "  'Yes .. and?'],\n",
        " 'do you think (.*)': ['if {0}? Absolutely.', 'No chance'],\n",
        " 'if (.*)': [\"Do you really think it's likely that {0}\",\n",
        "  'Do you wish that {0}',\n",
        "  'What do you think about {0}',\n",
        "  'Really--if {0}']}"
      ],
      "metadata": {
        "id": "esgrw_FDoWCv"
      },
      "id": "esgrw_FDoWCv",
      "execution_count": 6,
      "outputs": []
    },
    {
      "cell_type": "code",
      "source": [
        "import re\n",
        "import random\n",
        "def match_rule(rules, message):\n",
        "    response, phrase = \"default\", None\n",
        "    \n",
        "    for pattern, responses in rules.items():\n",
        "        match = re.search(pattern, message)\n",
        "        if match is not None:\n",
        "            response = random.choice(responses)\n",
        "            if '{0}' in response:\n",
        "                phrase = match.group(1)\n",
        "    return response.format(phrase)\n",
        "\n",
        "print(match_rule(rules, \"do you remember your last birthday\"))"
      ],
      "metadata": {
        "colab": {
          "base_uri": "https://localhost:8080/"
        },
        "id": "yTeenHELqYHY",
        "outputId": "29464071-5543-41a7-aeda-633f044a7ab8"
      },
      "id": "yTeenHELqYHY",
      "execution_count": 8,
      "outputs": [
        {
          "output_type": "stream",
          "name": "stdout",
          "text": [
            "Yes .. and?\n"
          ]
        }
      ]
    },
    {
      "cell_type": "markdown",
      "source": [
        "## Creating pronouns replacing fucntion"
      ],
      "metadata": {
        "id": "uhQTfZkAsgPl"
      },
      "id": "uhQTfZkAsgPl"
    },
    {
      "cell_type": "code",
      "source": [
        "def replace_pronouns(message):\n",
        "\n",
        "    message = message.lower()\n",
        "    if 'me' in message:\n",
        "        return re.sub('me', 'you', message)\n",
        "    if 'my' in message:\n",
        "        return re.sub('my', 'your', message)\n",
        "    if 'your' in message:\n",
        "        return re.sub('your', 'my', message)\n",
        "    if 'you' in message:\n",
        "        return re.sub('you', 'me', message)\n",
        "\n",
        "    return message\n",
        "\n",
        "print(replace_pronouns(\"my last birthday\"))"
      ],
      "metadata": {
        "id": "reB2HVR0rOFo",
        "colab": {
          "base_uri": "https://localhost:8080/"
        },
        "outputId": "82db73ab-a23f-479f-c9aa-5309e21ef9fc"
      },
      "execution_count": 9,
      "outputs": [
        {
          "output_type": "stream",
          "name": "stdout",
          "text": [
            "your last birthday\n"
          ]
        }
      ],
      "id": "reB2HVR0rOFo"
    },
    {
      "cell_type": "markdown",
      "source": [
        "## Creating response function"
      ],
      "metadata": {
        "id": "v_PszHR0tyNI"
      },
      "id": "v_PszHR0tyNI"
    },
    {
      "cell_type": "code",
      "source": [
        "def respond(message):\n",
        "    response, phrase = match_rule(rules, message)\n",
        "    if '{0}' in response:\n",
        "        phrase = replace_pronouns(phrase)\n",
        "        response = response.format(phrase)\n",
        "    return response"
      ],
      "metadata": {
        "id": "6ika58H9srAY"
      },
      "id": "6ika58H9srAY",
      "execution_count": 10,
      "outputs": []
    },
    {
      "cell_type": "code",
      "source": [],
      "metadata": {
        "id": "uZAY5Psut-bA"
      },
      "id": "uZAY5Psut-bA",
      "execution_count": null,
      "outputs": []
    }
  ],
  "metadata": {
    "kernelspec": {
      "display_name": "Python 3 (ipykernel)",
      "language": "python",
      "name": "python3"
    },
    "language_info": {
      "codemirror_mode": {
        "name": "ipython",
        "version": 3
      },
      "file_extension": ".py",
      "mimetype": "text/x-python",
      "name": "python",
      "nbconvert_exporter": "python",
      "pygments_lexer": "ipython3",
      "version": "3.8.0"
    },
    "colab": {
      "provenance": [],
      "include_colab_link": true
    }
  },
  "nbformat": 4,
  "nbformat_minor": 5
}