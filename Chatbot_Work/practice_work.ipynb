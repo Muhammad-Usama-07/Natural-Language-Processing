{
  "cells": [
    {
      "cell_type": "markdown",
      "metadata": {
        "id": "view-in-github",
        "colab_type": "text"
      },
      "source": [
        "<a href=\"https://colab.research.google.com/github/Muhammad-Usama-07/Natural-Language-Processing/blob/main/Chatbot_Work/practice_work.ipynb\" target=\"_parent\"><img src=\"https://colab.research.google.com/assets/colab-badge.svg\" alt=\"Open In Colab\"/></a>"
      ]
    },
    {
      "cell_type": "markdown",
      "source": [
        "# Bot Respond Funtion"
      ],
      "metadata": {
        "id": "stRXIlVsNcgr"
      },
      "id": "stRXIlVsNcgr"
    },
    {
      "cell_type": "code",
      "execution_count": 2,
      "id": "6c0cbbce",
      "metadata": {
        "colab": {
          "base_uri": "https://localhost:8080/"
        },
        "id": "6c0cbbce",
        "outputId": "f1d431ce-f8ab-44aa-ab3b-f81871764b86"
      },
      "outputs": [
        {
          "output_type": "stream",
          "name": "stdout",
          "text": [
            "I can hear you : hello!\n"
          ]
        }
      ],
      "source": [
        "def bot_respond(message):\n",
        "    bot_message = \"I can hear you : \" + message\n",
        "    return bot_message\n",
        "\n",
        "# Test function\n",
        "print(bot_respond(\"hello!\"))"
      ]
    },
    {
      "cell_type": "markdown",
      "source": [
        "# Send Message and Recieve Response From Bot"
      ],
      "metadata": {
        "id": "Yz3Fsnr3oHNT"
      },
      "id": "Yz3Fsnr3oHNT"
    },
    {
      "cell_type": "code",
      "source": [
        "bot_template = \"BOT Answer: {0}\"\n",
        "user_template = \"USER Message: {0}\"\n",
        "\n",
        "def send_user_message(message):\n",
        "    print(user_template.format(message))\n",
        "    response = bot_respond(message)\n",
        "    print(bot_template.format(response))\n",
        "\n",
        "send_user_message(\"hello\")"
      ],
      "metadata": {
        "colab": {
          "base_uri": "https://localhost:8080/"
        },
        "id": "vkOn1xnCMliY",
        "outputId": "d15dc34a-5322-467a-d78e-e5f801837a89"
      },
      "id": "vkOn1xnCMliY",
      "execution_count": 4,
      "outputs": [
        {
          "output_type": "stream",
          "name": "stdout",
          "text": [
            "USER Message: hello\n",
            "BOT Answer: I can hear you : hello\n"
          ]
        }
      ]
    },
    {
      "cell_type": "code",
      "source": [],
      "metadata": {
        "id": "esgrw_FDoWCv"
      },
      "id": "esgrw_FDoWCv",
      "execution_count": null,
      "outputs": []
    }
  ],
  "metadata": {
    "kernelspec": {
      "display_name": "Python 3 (ipykernel)",
      "language": "python",
      "name": "python3"
    },
    "language_info": {
      "codemirror_mode": {
        "name": "ipython",
        "version": 3
      },
      "file_extension": ".py",
      "mimetype": "text/x-python",
      "name": "python",
      "nbconvert_exporter": "python",
      "pygments_lexer": "ipython3",
      "version": "3.8.0"
    },
    "colab": {
      "provenance": [],
      "include_colab_link": true
    }
  },
  "nbformat": 4,
  "nbformat_minor": 5
}